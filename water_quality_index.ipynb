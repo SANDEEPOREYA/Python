{
 "cells": [
  {
   "cell_type": "code",
   "execution_count": 1,
   "id": "artificial-fishing",
   "metadata": {},
   "outputs": [],
   "source": [
    "import pandas as pd\n",
    "df = pd.read_csv('water_quality_data.csv')"
   ]
  },
  {
   "cell_type": "code",
   "execution_count": 2,
   "id": "cardiovascular-james",
   "metadata": {},
   "outputs": [],
   "source": [
    "# Standard Values\n",
    "vs = {\n",
    "    \"pH\": 9.06,\n",
    "    \"Turbidity\": 5,\n",
    "    \"temp\": 25,\n",
    "    \"Conductivity\": 1500,\n",
    "    \"Hardness\": 500,\n",
    "    \"Alkalinity\": 120,\n",
    "    \"Dissolved_oxygen\": 8,\n",
    "    \"BOD\": 4,\n",
    "    \"COD\": 25,\n",
    "    \"Ammonium\": 0.2,\n",
    "    \"Nitrate\": 5,\n",
    "    \"Nitrite\": 1,\n",
    "    \"Phosphate\": 0.65\n",
    "}\n",
    "\n",
    "# Ideal Values\n",
    "vi = {\n",
    "    \"pH\": 7,\n",
    "    \"Turbidity\": 0,\n",
    "    \"Temperature\": 0,\n",
    "    \"Conductivity\": 0,\n",
    "    \"Hardness\": 0,\n",
    "    \"Alkalinity\": 0,\n",
    "    \"Dissolved_oxygen\": 14.6,\n",
    "    \"BOD\": 0,\n",
    "    \"COD\": 0,\n",
    "    \"Ammonium\": 0,\n",
    "    \"Nitrate\": 0,\n",
    "    \"Nitrite\": 0,\n",
    "    \"Phosphate\": 0\n",
    "}\n",
    "\n",
    "# Dropping unnecessary columns and rows\n",
    "data = df.drop(['Characteristic', 'CalciumHardness', 'D. Solids', 'Chloride', 'Sulphate (SO4)', \n",
    "                'Magnesium H.'], axis=1)\n",
    "data = data.drop(df.index[0])\n",
    "data = data.reset_index(drop=True)\n",
    "\n",
    "# Renaming columns\n",
    "data = data.rename(columns={'Sp. Conductivity':'Conductivity', 'Nitrate Nitrogen':'Nitrate', \n",
    "                            'Phosphate (PO4)':'Phosphate', 'T. Alkalinity':'Alkalinity', \n",
    "                            'T. Hardness':'Hardness', 'D. Oxygen':'Dissolved_oxygen', \n",
    "                            'B.O.D.':'BOD', 'C.O.D.':'COD'})\n",
    "\n",
    "# Changing data types from objects to numbers\n",
    "data['Turbidity'] = pd.to_numeric(data['Turbidity'],errors='coerce')\n",
    "data['pH'] = pd.to_numeric(data['pH'],errors='coerce')\n",
    "data['Conductivity'] = pd.to_numeric(data['Conductivity'],errors='coerce')\n",
    "data['Nitrate'] = pd.to_numeric(data['Nitrate'],errors='coerce')\n",
    "data['Phosphate'] = pd.to_numeric(data['Phosphate'],errors='coerce')\n",
    "data['Alkalinity'] = pd.to_numeric(data['Alkalinity'],errors='coerce')\n",
    "data['Hardness'] = pd.to_numeric(data['Hardness'],errors='coerce')\n",
    "data['Dissolved_oxygen'] = pd.to_numeric(data['Dissolved_oxygen'],errors='coerce')\n",
    "data['BOD'] = pd.to_numeric(data['BOD'],errors='coerce')\n",
    "data['COD'] = pd.to_numeric(data['COD'],errors='coerce')"
   ]
  },
  {
   "cell_type": "code",
   "execution_count": 8,
   "id": "going-banks",
   "metadata": {},
   "outputs": [],
   "source": [
    "def calculate_wqi(vs, vi, data, num):\n",
    "    k = 0\n",
    "    temp = 0\n",
    "    unit_weight = {}\n",
    "    quality_rating = {}\n",
    "    sum_unit_weight = 0\n",
    "    prod_sum_wi_qi = 0\n",
    "    wqi = 0\n",
    "    \n",
    "    # Calculating k value\n",
    "    for i in data.columns:\n",
    "        k += (vs[i]**-1)\n",
    "    k = (k**-1)\n",
    "    \n",
    "    # Calculating unit weight and storing in unit_weight\n",
    "    for i in data.columns:\n",
    "        temp = (k/vs[i])\n",
    "        unit_weight[i] = round(temp, 6);\n",
    "    \n",
    "    # Calculating quality rating and storing in quality_rating\n",
    "    for i in data.columns:\n",
    "        temp = (data[i][num] - vi[i])/(vs[i] - vi[i])*100\n",
    "        temp = round(temp, 2);\n",
    "        quality_rating[i] = temp\n",
    "    \n",
    "    # Calculating summation of unit weight and storing it in sum_unit_weight\n",
    "    # Calculating summation of product of unit weight and quality rating and storing it in \n",
    "    # prod_sum_wi_qi\n",
    "    for i in data.columns:\n",
    "        sum_unit_weight += unit_weight[i]\n",
    "        prod_sum_wi_qi += (quality_rating[i] * unit_weight[i])\n",
    "    wqi = prod_sum_wi_qi/sum_unit_weight\n",
    "    wqi = round(wqi, 2)\n",
    "    return wqi"
   ]
  },
  {
   "cell_type": "code",
   "execution_count": 5,
   "id": "radical-print",
   "metadata": {},
   "outputs": [
    {
     "name": "stdout",
     "output_type": "stream",
     "text": [
      "93.74207571207572\n"
     ]
    }
   ],
   "source": [
    "print(calculate_wqi(vs, vi, data, 0))"
   ]
  },
  {
   "cell_type": "code",
   "execution_count": 6,
   "id": "sustained-penalty",
   "metadata": {},
   "outputs": [
    {
     "name": "stdout",
     "output_type": "stream",
     "text": [
      "53.60573410573409\n"
     ]
    }
   ],
   "source": [
    "print(calculate_wqi(vs, vi, data, 1))"
   ]
  },
  {
   "cell_type": "code",
   "execution_count": 9,
   "id": "fixed-surveillance",
   "metadata": {},
   "outputs": [
    {
     "name": "stdout",
     "output_type": "stream",
     "text": [
      "93.74\n",
      "53.61\n",
      "81.8\n",
      "17.81\n",
      "61.1\n",
      "69.71\n",
      "17.61\n",
      "72.15\n",
      "17.64\n",
      "79.78\n"
     ]
    }
   ],
   "source": [
    "for i in range(10):\n",
    "    print(calculate_wqi(vs, vi, data, i))"
   ]
  },
  {
   "cell_type": "code",
   "execution_count": 12,
   "id": "several-criminal",
   "metadata": {},
   "outputs": [
    {
     "data": {
      "text/plain": [
       "Turbidity             2.7\n",
       "pH                    8.3\n",
       "Conductivity        211.0\n",
       "Nitrate               0.4\n",
       "Phosphate             0.8\n",
       "Alkalinity           10.0\n",
       "Hardness            138.0\n",
       "Dissolved_oxygen      7.6\n",
       "BOD                   1.3\n",
       "COD                  11.0\n",
       "Name: 0, dtype: float64"
      ]
     },
     "execution_count": 12,
     "metadata": {},
     "output_type": "execute_result"
    }
   ],
   "source": [
    "data.iloc[0, ]"
   ]
  },
  {
   "cell_type": "code",
   "execution_count": null,
   "id": "intended-receiver",
   "metadata": {},
   "outputs": [],
   "source": []
  }
 ],
 "metadata": {
  "kernelspec": {
   "display_name": "Python 3",
   "language": "python",
   "name": "python3"
  },
  "language_info": {
   "codemirror_mode": {
    "name": "ipython",
    "version": 3
   },
   "file_extension": ".py",
   "mimetype": "text/x-python",
   "name": "python",
   "nbconvert_exporter": "python",
   "pygments_lexer": "ipython3",
   "version": "3.7.1"
  }
 },
 "nbformat": 4,
 "nbformat_minor": 5
}
